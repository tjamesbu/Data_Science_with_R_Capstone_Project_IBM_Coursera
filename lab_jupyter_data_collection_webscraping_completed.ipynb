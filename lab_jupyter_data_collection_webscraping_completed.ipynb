{
  "nbformat": 4,
  "nbformat_minor": 0,
  "metadata": {
    "kernelspec": {
      "display_name": "R",
      "language": "R",
      "name": "ir"
    },
    "language_info": {
      "codemirror_mode": "r",
      "file_extension": ".r",
      "mimetype": "text/x-r-source",
      "name": "R",
      "pygments_lexer": "r",
      "version": "3.6.1"
    },
    "colab": {
      "name": "lab-jupyter-data-collection-webscraping.ipynb",
      "provenance": []
    }
  },
  "cells": [
    {
      "cell_type": "markdown",
      "metadata": {
        "id": "l-ff0gYYpO0p"
      },
      "source": [
        "<a href=\"https://cognitiveclass.ai/?utm_medium=Exinfluencer&utm_source=Exinfluencer&utm_content=000026UJ&utm_term=10006555&utm_id=NA-SkillsNetwork-Channel-SkillsNetworkCoursesIBMDeveloperSkillsNetworkRP0321ENSkillsNetwork25371262-2021-01-01\">\n",
        "    <img src=\"https://cf-courses-data.s3.us.cloud-object-storage.appdomain.cloud/IBMDeveloperSkillsNetwork-RP0101EN-Coursera/v2/M1_R_Basics/images/IDSNlogo.png\" width=\"200\" align=\"center\">\n",
        "</a>\n"
      ]
    },
    {
      "cell_type": "markdown",
      "metadata": {
        "id": "IVTgVVvWpO0r"
      },
      "source": [
        "<h1>Web scrape a Global Bike-Sharing Systems Wiki Page</h1>\n",
        "\n",
        "Estimated time needed: **20** minutes\n"
      ]
    },
    {
      "cell_type": "markdown",
      "metadata": {
        "id": "zfOqG7nxpO0s"
      },
      "source": [
        "## Lab Overview:\n",
        "\n",
        "Before getting your hands dirty on the actual data analysis tasks, you first need to obtain some background and context information about well-known bike sharing systems worldwide, such as their location, launch date, rental bike size, and so on.\n",
        "\n",
        "You can get such information from this Wiki page:\n",
        "\n",
        "[https://en.wikipedia.org/wiki/List_of_bicycle-sharing_systems](https://en.wikipedia.org/wiki/List_of_bicycle-sharing_systems?utm_medium=Exinfluencer&utm_source=Exinfluencer&utm_content=000026UJ&utm_term=10006555&utm_id=NA-SkillsNetwork-Channel-SkillsNetworkCoursesIBMDeveloperSkillsNetworkRP0321ENSkillsNetwork25371262-2021-01-01)\n",
        "\n",
        "<a href=\"https://cognitiveclass.ai/?utm_medium=Exinfluencer&utm_source=Exinfluencer&utm_content=000026UJ&utm_term=10006555&utm_id=NA-SkillsNetwork-Channel-SkillsNetworkCoursesIBMDeveloperSkillsNetworkRP0321ENSkillsNetwork25371262-2021-01-01\">\n",
        "    <img src=\"https://cf-courses-data.s3.us.cloud-object-storage.appdomain.cloud/IBMDeveloperSkillsNetwork-RP0321EN-SkillsNetwork/labs/module_1/images/l2-list-bike-sharing-systems.png\" width=\"600\" align=\"center\">\n",
        "</a>\n"
      ]
    },
    {
      "cell_type": "markdown",
      "metadata": {
        "id": "SAN26qnWpO0t"
      },
      "source": [
        "First import necessary libraries for the webscraping task.\n"
      ]
    },
    {
      "cell_type": "markdown",
      "metadata": {
        "id": "5R0JjJwvpO0u"
      },
      "source": [
        "In this lab, you need to use the `rvest` library to obtain the bike sharing systems table from the above web page, convert the table into a data frame, and write the data frame to a csv file for future data wrangling and analysis tasks.\n"
      ]
    },
    {
      "cell_type": "code",
      "metadata": {
        "colab": {
          "base_uri": "https://localhost:8080/"
        },
        "id": "bUTxkovhpO0u",
        "outputId": "9328263d-8426-4072-ee8e-70651681702d"
      },
      "source": [
        "# Check if need to install rvest` library\n",
        "require(\"rvest\")\n",
        "\n",
        "library(rvest)"
      ],
      "execution_count": 1,
      "outputs": [
        {
          "output_type": "stream",
          "text": [
            "Loading required package: rvest\n",
            "\n"
          ],
          "name": "stderr"
        }
      ]
    },
    {
      "cell_type": "markdown",
      "metadata": {
        "id": "_08eiGMJpO0v"
      },
      "source": [
        "# TASK: Extract bike sharing systems HTML table from a Wiki page and convert it into a data frame\n"
      ]
    },
    {
      "cell_type": "markdown",
      "metadata": {
        "id": "XlIdkU_5pO0x"
      },
      "source": [
        "*TODO:* Get the root HTML node\n"
      ]
    },
    {
      "cell_type": "code",
      "metadata": {
        "id": "hgIOGrNZpO0z"
      },
      "source": [
        "url <- \"https://en.wikipedia.org/wiki/List_of_bicycle-sharing_systems\"\n",
        "# Get the root HTML node by calling the `read_html()` method with URL\n"
      ],
      "execution_count": 2,
      "outputs": []
    },
    {
      "cell_type": "code",
      "metadata": {
        "id": "rZRZlmozppSt"
      },
      "source": [
        "# Get the root HTML node by calling the `read_html()` method with URL\n",
        "root_node <- read_html(url)"
      ],
      "execution_count": 4,
      "outputs": []
    },
    {
      "cell_type": "markdown",
      "metadata": {
        "id": "oLFRYhPepO00"
      },
      "source": [
        "Note that this HTML page at least contains three child `<table>` nodes under the root HTML node. So, you will need to use `html_nodes(root_node, \"table\")` function to get all its child `<table>` nodes:\n",
        "\n",
        "```\n",
        "<html>\n",
        "  <table>(table1)</table>\n",
        "  <table>(table2)</table>\n",
        "  <table>(table3)</table>\n",
        "  ...\n",
        "</html>\n",
        "```\n"
      ]
    },
    {
      "cell_type": "markdown",
      "metadata": {
        "id": "SPe-qWzjpO01"
      },
      "source": [
        "table_nodes <- html_nodes(root_node, \"table\")\n"
      ]
    },
    {
      "cell_type": "markdown",
      "metadata": {
        "id": "vIaDzHAupO01"
      },
      "source": [
        "You can use a `for` loop to print each table, and then you will see that the actual the bike sharing table is the second element `table_nodes[[2]]`.\n"
      ]
    },
    {
      "cell_type": "markdown",
      "metadata": {
        "id": "wYvWiXTrpO01"
      },
      "source": [
        "Next, you need to convert this HTML table into a data frame using the `html_table()` function. You may choose to include `fill = TRUE` argument to fill any empty table rows/columns.\n"
      ]
    },
    {
      "cell_type": "code",
      "metadata": {
        "colab": {
          "base_uri": "https://localhost:8080/",
          "height": 137
        },
        "id": "Tnih677mp6u2",
        "outputId": "cea7c758-ea8a-48ce-81bd-7c8556b14f39"
      },
      "source": [
        "table_nodes <- html_nodes(root_node, \"table\")\n",
        "table_nodes"
      ],
      "execution_count": 5,
      "outputs": [
        {
          "output_type": "display_data",
          "data": {
            "text/plain": [
              "{xml_nodeset (6)}\n",
              "[1] <table class=\"box-Split plainlinks metadata ambox ambox-move\" role=\"prese ...\n",
              "[2] <table class=\"box-Overlinked plainlinks metadata ambox ambox-style\" role= ...\n",
              "[3] <table class=\"wikitable sortable\" style=\"text-align:left\"><tbody>\\n<tr>\\n ...\n",
              "[4] <table class=\"nowraplinks mw-collapsible autocollapse navbox-inner\" style ...\n",
              "[5] <table class=\"nowraplinks navbox-subgroup\" style=\"border-spacing:0\"><tbod ...\n",
              "[6] <table class=\"nowraplinks navbox-subgroup\" style=\"border-spacing:0\"><tbod ..."
            ]
          },
          "metadata": {}
        }
      ]
    },
    {
      "cell_type": "code",
      "metadata": {
        "id": "Cqf-jbdupO02"
      },
      "source": [
        "# Convert the bike-sharing system table into a dataframe\n",
        "bike_share <- html_table(table_nodes, fill=TRUE)"
      ],
      "execution_count": 6,
      "outputs": []
    },
    {
      "cell_type": "markdown",
      "metadata": {
        "id": "hEta8_2qpO02"
      },
      "source": [
        "Summarize the bike sharing system data frame\n"
      ]
    },
    {
      "cell_type": "code",
      "metadata": {
        "colab": {
          "base_uri": "https://localhost:8080/",
          "height": 137
        },
        "id": "mUJwzSprpO03",
        "outputId": "10cbf504-13f7-40e0-915e-7dc823ef50e9"
      },
      "source": [
        "# Summarize the dataframe\n",
        "summary(bike_share)"
      ],
      "execution_count": 7,
      "outputs": [
        {
          "output_type": "display_data",
          "data": {
            "text/plain": [
              "     Length Class  Mode\n",
              "[1,]  2     tbl_df list\n",
              "[2,]  2     tbl_df list\n",
              "[3,] 10     tbl_df list\n",
              "[4,] 10     tbl_df list\n",
              "[5,]  2     tbl_df list\n",
              "[6,]  2     tbl_df list"
            ]
          },
          "metadata": {}
        }
      ]
    },
    {
      "cell_type": "code",
      "metadata": {
        "id": "blCpxy0NqRI2"
      },
      "source": [
        "df=bike_share[[3]]"
      ],
      "execution_count": 8,
      "outputs": []
    },
    {
      "cell_type": "code",
      "metadata": {
        "colab": {
          "base_uri": "https://localhost:8080/",
          "height": 223
        },
        "id": "AXxaCTn2qRhE",
        "outputId": "b9c4f8f5-b023-4dea-e2c5-87147f430585"
      },
      "source": [
        "summary(df)"
      ],
      "execution_count": 9,
      "outputs": [
        {
          "output_type": "display_data",
          "data": {
            "text/plain": [
              "   Country              City               Name              System         \n",
              " Length:515         Length:515         Length:515         Length:515        \n",
              " Class :character   Class :character   Class :character   Class :character  \n",
              " Mode  :character   Mode  :character   Mode  :character   Mode  :character  \n",
              "   Operator           Launched         Discontinued         Stations        \n",
              " Length:515         Length:515         Length:515         Length:515        \n",
              " Class :character   Class :character   Class :character   Class :character  \n",
              " Mode  :character   Mode  :character   Mode  :character   Mode  :character  \n",
              "   Bicycles         Daily ridership   \n",
              " Length:515         Length:515        \n",
              " Class :character   Class :character  \n",
              " Mode  :character   Mode  :character  "
            ]
          },
          "metadata": {}
        }
      ]
    },
    {
      "cell_type": "markdown",
      "metadata": {
        "id": "sD5Hdd5mpO03"
      },
      "source": [
        "Export the data frame as a csv file called `raw_bike_sharing_systems.csv`\n"
      ]
    },
    {
      "cell_type": "code",
      "metadata": {
        "id": "Acn4d7SPpO03"
      },
      "source": [
        "# Export the dataframe into a csv file\n",
        "write.csv(df,\"raw_bike_sharing_systems.csv\")"
      ],
      "execution_count": 10,
      "outputs": []
    },
    {
      "cell_type": "markdown",
      "metadata": {
        "id": "csQ5ylsypO03"
      },
      "source": [
        "For more details about webscraping with `rvest`, please refer to the previous webscraping notebook here:\n",
        "\n",
        "[Webscraping in R](https://cf-courses-data.s3.us.cloud-object-storage.appdomain.cloud/IBMDeveloperSkillsNetwork-RP0101EN-Coursera/v2/M4\\_Working_With_Data/lab3\\_jupyter_webscraping.ipynb)\n"
      ]
    },
    {
      "cell_type": "markdown",
      "metadata": {
        "id": "2Z6Fx-6EpO03"
      },
      "source": [
        "## Authors\n",
        "\n",
        "<a href=\"https://www.linkedin.com/in/yan-luo-96288783/?utm_medium=Exinfluencer&utm_source=Exinfluencer&utm_content=000026UJ&utm_term=10006555&utm_id=NA-SkillsNetwork-Channel-SkillsNetworkCoursesIBMDeveloperSkillsNetworkRP0321ENSkillsNetwork25371262-2021-01-01\" target=\"_blank\">Yan Luo</a>\n"
      ]
    },
    {
      "cell_type": "markdown",
      "metadata": {
        "id": "Bycrm_BNpO04"
      },
      "source": [
        "### Other Contributors\n"
      ]
    },
    {
      "cell_type": "markdown",
      "metadata": {
        "id": "Ad2zPXBgpO04"
      },
      "source": [
        "## Change Log\n",
        "\n",
        "| Date (YYYY-MM-DD) | Version | Changed By | Change Description      |\n",
        "| ----------------- | ------- | ---------- | ----------------------- |\n",
        "| 2021-04-05        | 0.1     | Yan        | Initial version created |\n",
        "|                   |         |            |                         |\n",
        "|                   |         |            |                         |\n",
        "\n",
        "## <h3 align=\"center\"> © IBM Corporation 2021. All rights reserved. <h3/>\n"
      ]
    }
  ]
}